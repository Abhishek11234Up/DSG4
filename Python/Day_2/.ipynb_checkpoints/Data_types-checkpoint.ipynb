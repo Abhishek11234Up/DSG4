{
 "cells": [
  {
   "cell_type": "code",
   "execution_count": 1,
   "id": "47b177be-132f-4770-8086-2eeb9dce4f7a",
   "metadata": {},
   "outputs": [
    {
     "name": "stdin",
     "output_type": "stream",
     "text": [
      "What is your name? :  Amit\n"
     ]
    },
    {
     "data": {
      "text/plain": [
       "'Amit'"
      ]
     },
     "execution_count": 1,
     "metadata": {},
     "output_type": "execute_result"
    }
   ],
   "source": [
    "input(\"What is your name? : \")"
   ]
  },
  {
   "cell_type": "code",
   "execution_count": 2,
   "id": "1b35e072-7981-4d5c-a554-bf73519e384d",
   "metadata": {},
   "outputs": [],
   "source": [
    "a = \"A\"\n",
    "b = 'Abhishek'\n",
    "c = '''kuch bhi'''"
   ]
  },
  {
   "cell_type": "code",
   "execution_count": 3,
   "id": "6b811793-bcb3-4525-87ab-35dadfec5e8b",
   "metadata": {},
   "outputs": [
    {
     "name": "stdout",
     "output_type": "stream",
     "text": [
      "A\n",
      "Abhishek\n",
      "kuch bhi\n"
     ]
    }
   ],
   "source": [
    "print(a)\n",
    "print(b)\n",
    "print(c)"
   ]
  },
  {
   "cell_type": "code",
   "execution_count": 4,
   "id": "f6c444a5-3bff-4dae-a1f0-8e261c455563",
   "metadata": {},
   "outputs": [
    {
     "name": "stdout",
     "output_type": "stream",
     "text": [
      "<class 'str'>\n"
     ]
    }
   ],
   "source": [
    "print(type(c))"
   ]
  },
  {
   "cell_type": "code",
   "execution_count": 5,
   "id": "b41f8e51-78eb-451d-821e-056889d0b303",
   "metadata": {},
   "outputs": [
    {
     "data": {
      "text/plain": [
       "int"
      ]
     },
     "execution_count": 5,
     "metadata": {},
     "output_type": "execute_result"
    }
   ],
   "source": [
    "d = 5\n",
    "type(d)"
   ]
  },
  {
   "cell_type": "code",
   "execution_count": 7,
   "id": "b3002a9b-ef43-44f7-8302-b5aa6db5f73a",
   "metadata": {},
   "outputs": [
    {
     "data": {
      "text/plain": [
       "float"
      ]
     },
     "execution_count": 7,
     "metadata": {},
     "output_type": "execute_result"
    }
   ],
   "source": [
    "e = 15.5\n",
    "type(e)"
   ]
  },
  {
   "cell_type": "code",
   "execution_count": 8,
   "id": "65cf68da-6cff-4958-becb-279582f45c8d",
   "metadata": {},
   "outputs": [
    {
     "data": {
      "text/plain": [
       "complex"
      ]
     },
     "execution_count": 8,
     "metadata": {},
     "output_type": "execute_result"
    }
   ],
   "source": [
    "f = 5 + 6j\n",
    "type(f)"
   ]
  },
  {
   "cell_type": "code",
   "execution_count": 11,
   "id": "69f3ef23-88f8-4270-87f6-faa7eeeb1aa8",
   "metadata": {},
   "outputs": [
    {
     "data": {
      "text/plain": [
       "list"
      ]
     },
     "execution_count": 11,
     "metadata": {},
     "output_type": "execute_result"
    }
   ],
   "source": [
    "g = [1, 2.5, 3+2j, \"Monika\", 'Tanuj', [1,2,3], (1,2,3)]\n",
    "type(g)"
   ]
  },
  {
   "cell_type": "code",
   "execution_count": 12,
   "id": "49ae3cc1-2286-4e2a-a883-74d6f29f6ff3",
   "metadata": {},
   "outputs": [
    {
     "data": {
      "text/plain": [
       "tuple"
      ]
     },
     "execution_count": 12,
     "metadata": {},
     "output_type": "execute_result"
    }
   ],
   "source": [
    "h = (1, 2.5, 3+2j, \"Monika\", 'Tanuj', [1,2,3], (1,2,3))\n",
    "\n",
    "type(h)"
   ]
  },
  {
   "cell_type": "code",
   "execution_count": 13,
   "id": "10c399d4-0f7e-4f49-bfb9-d1937650766a",
   "metadata": {},
   "outputs": [
    {
     "data": {
      "text/plain": [
       "range"
      ]
     },
     "execution_count": 13,
     "metadata": {},
     "output_type": "execute_result"
    }
   ],
   "source": [
    "i = range(6)\n",
    "type(i)"
   ]
  },
  {
   "cell_type": "code",
   "execution_count": 14,
   "id": "67a78ee5-85b1-433a-a99f-cee7e6fb29c9",
   "metadata": {},
   "outputs": [
    {
     "data": {
      "text/plain": [
       "range(0, 6)"
      ]
     },
     "execution_count": 14,
     "metadata": {},
     "output_type": "execute_result"
    }
   ],
   "source": [
    "i"
   ]
  },
  {
   "cell_type": "code",
   "execution_count": 16,
   "id": "f9e7a4ba-172d-43da-a080-d5dfcc661967",
   "metadata": {},
   "outputs": [
    {
     "data": {
      "text/plain": [
       "dict"
      ]
     },
     "execution_count": 16,
     "metadata": {},
     "output_type": "execute_result"
    }
   ],
   "source": [
    "j = {\"Key\":'Value', 'name': 'Amit', 'age': 30, \"Profession\": \"AI engineer\"}\n",
    "type(j)"
   ]
  },
  {
   "cell_type": "code",
   "execution_count": 17,
   "id": "5ef2cb76-56a2-4438-b570-ef8831c23141",
   "metadata": {},
   "outputs": [
    {
     "data": {
      "text/plain": [
       "set"
      ]
     },
     "execution_count": 17,
     "metadata": {},
     "output_type": "execute_result"
    }
   ],
   "source": [
    "k = {1, 2.5, 3+2j, \"Monika\", 'Tanuj'}\n",
    "type(k)"
   ]
  },
  {
   "cell_type": "code",
   "execution_count": 18,
   "id": "896ac9d3-fc8c-4d1f-b8a6-e5c48c04989c",
   "metadata": {},
   "outputs": [
    {
     "name": "stdout",
     "output_type": "stream",
     "text": [
      "<class 'bool'>\n"
     ]
    }
   ],
   "source": [
    "l = True\n",
    "print(type(l))"
   ]
  },
  {
   "cell_type": "code",
   "execution_count": 19,
   "id": "7eea8678-83c2-4ddf-88fb-3f99495e08b5",
   "metadata": {},
   "outputs": [
    {
     "data": {
      "text/plain": [
       "bool"
      ]
     },
     "execution_count": 19,
     "metadata": {},
     "output_type": "execute_result"
    }
   ],
   "source": [
    "m = False\n",
    "type(m)"
   ]
  }
 ],
 "metadata": {
  "kernelspec": {
   "display_name": "Python 3 (ipykernel)",
   "language": "python",
   "name": "python3"
  },
  "language_info": {
   "codemirror_mode": {
    "name": "ipython",
    "version": 3
   },
   "file_extension": ".py",
   "mimetype": "text/x-python",
   "name": "python",
   "nbconvert_exporter": "python",
   "pygments_lexer": "ipython3",
   "version": "3.11.7"
  }
 },
 "nbformat": 4,
 "nbformat_minor": 5
}
