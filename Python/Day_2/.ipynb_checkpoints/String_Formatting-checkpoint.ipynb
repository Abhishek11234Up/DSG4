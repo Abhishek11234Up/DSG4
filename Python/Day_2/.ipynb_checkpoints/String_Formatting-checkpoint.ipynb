{
  "nbformat": 4,
  "nbformat_minor": 0,
  "metadata": {
    "colab": {
      "provenance": []
    },
    "kernelspec": {
      "name": "python3",
      "display_name": "Python 3"
    },
    "language_info": {
      "name": "python"
    }
  },
  "cells": [
    {
      "cell_type": "code",
      "execution_count": 1,
      "metadata": {
        "id": "hVkyXXPHiwRH"
      },
      "outputs": [],
      "source": [
        "age = 30"
      ]
    },
    {
      "cell_type": "code",
      "source": [
        "type(age)"
      ],
      "metadata": {
        "colab": {
          "base_uri": "https://localhost:8080/"
        },
        "id": "SddggF6IlF-4",
        "outputId": "673311e2-642d-4a86-e317-2aeee707cabb"
      },
      "execution_count": 2,
      "outputs": [
        {
          "output_type": "execute_result",
          "data": {
            "text/plain": [
              "int"
            ]
          },
          "metadata": {},
          "execution_count": 2
        }
      ]
    },
    {
      "cell_type": "code",
      "source": [
        "print(\"My current age is \"+ age)"
      ],
      "metadata": {
        "colab": {
          "base_uri": "https://localhost:8080/",
          "height": 145
        },
        "id": "9xADJOWmllTb",
        "outputId": "187209a6-be13-457d-9e9d-94bc5c273d28"
      },
      "execution_count": 3,
      "outputs": [
        {
          "output_type": "error",
          "ename": "TypeError",
          "evalue": "can only concatenate str (not \"int\") to str",
          "traceback": [
            "\u001b[0;31m---------------------------------------------------------------------------\u001b[0m",
            "\u001b[0;31mTypeError\u001b[0m                                 Traceback (most recent call last)",
            "\u001b[0;32m<ipython-input-3-27f7808c45a1>\u001b[0m in \u001b[0;36m<cell line: 1>\u001b[0;34m()\u001b[0m\n\u001b[0;32m----> 1\u001b[0;31m \u001b[0mprint\u001b[0m\u001b[0;34m(\u001b[0m\u001b[0;34m\"My current age is \"\u001b[0m\u001b[0;34m+\u001b[0m \u001b[0mage\u001b[0m\u001b[0;34m)\u001b[0m\u001b[0;34m\u001b[0m\u001b[0;34m\u001b[0m\u001b[0m\n\u001b[0m",
            "\u001b[0;31mTypeError\u001b[0m: can only concatenate str (not \"int\") to str"
          ]
        }
      ]
    },
    {
      "cell_type": "code",
      "source": [
        "age = str(age)"
      ],
      "metadata": {
        "id": "ylMKKTrflsgQ"
      },
      "execution_count": 4,
      "outputs": []
    },
    {
      "cell_type": "code",
      "source": [
        "print(\"My current age is \"+ age)"
      ],
      "metadata": {
        "colab": {
          "base_uri": "https://localhost:8080/"
        },
        "id": "pCtLb7coly_2",
        "outputId": "2867f762-c43e-4ccf-a479-d2f5f2917899"
      },
      "execution_count": 5,
      "outputs": [
        {
          "output_type": "stream",
          "name": "stdout",
          "text": [
            "My current age is 30\n"
          ]
        }
      ]
    },
    {
      "cell_type": "code",
      "source": [
        "my_salary = 75000\n",
        "no_of_bank_accounts = 2\n",
        "my_bonus = 20000\n",
        "my_side_income = 120000"
      ],
      "metadata": {
        "id": "soUbYsX6l2bK"
      },
      "execution_count": 6,
      "outputs": []
    },
    {
      "cell_type": "code",
      "source": [
        "print(\"My name is this and my salary is \"+str(my_salary) + \" I have \"+ str(no_of_bank_accounts) + \" accounts and my bonus is \"+ str(my_bonus))"
      ],
      "metadata": {
        "colab": {
          "base_uri": "https://localhost:8080/"
        },
        "id": "T0gjXelvmeQq",
        "outputId": "8894a0d5-cfcf-460d-b2ec-a0e10bf9fc0e"
      },
      "execution_count": 9,
      "outputs": [
        {
          "output_type": "stream",
          "name": "stdout",
          "text": [
            "My name is this and my salary is 75000 I have 2 accounts and my bonus is 20000\n"
          ]
        }
      ]
    },
    {
      "cell_type": "code",
      "source": [],
      "metadata": {
        "id": "4vrJ96MUnhVZ"
      },
      "execution_count": 10,
      "outputs": []
    },
    {
      "cell_type": "markdown",
      "source": [
        "# f-strings == f\"whatever you want write it and the use a placeholder{}\""
      ],
      "metadata": {
        "id": "9pvAenf3nkWk"
      }
    },
    {
      "cell_type": "code",
      "source": [
        "print(f\"My name is this and my salary is {my_salary}  I have {no_of_bank_accounts} accounts and my bonus is {my_bonus}\")"
      ],
      "metadata": {
        "colab": {
          "base_uri": "https://localhost:8080/"
        },
        "id": "Xn4pd-c2m5Bl",
        "outputId": "559673a3-0acb-40a9-d63d-a97487c94251"
      },
      "execution_count": 10,
      "outputs": [
        {
          "output_type": "stream",
          "name": "stdout",
          "text": [
            "My name is this and my salary is 75000  I have 2 accounts and my bonus is 20000\n"
          ]
        }
      ]
    },
    {
      "cell_type": "code",
      "source": [
        "print(f\"I know i have {2*500} notes in my pocket\")"
      ],
      "metadata": {
        "colab": {
          "base_uri": "https://localhost:8080/"
        },
        "id": "MtzcYu_Ynd0y",
        "outputId": "3742e0fd-6997-4faa-f4b9-86da4235b136"
      },
      "execution_count": 11,
      "outputs": [
        {
          "output_type": "stream",
          "name": "stdout",
          "text": [
            "I know i have 1000 notes in my pocket\n"
          ]
        }
      ]
    },
    {
      "cell_type": "code",
      "source": [
        "price = 59"
      ],
      "metadata": {
        "id": "bnozaP5Hn91x"
      },
      "execution_count": 12,
      "outputs": []
    },
    {
      "cell_type": "code",
      "source": [
        "txt = f\"The price is {price:.2f} dollars\"\n",
        "print(txt)"
      ],
      "metadata": {
        "colab": {
          "base_uri": "https://localhost:8080/"
        },
        "id": "m8AflOIVojos",
        "outputId": "caec4c86-deca-446b-f11a-230b5d35a341"
      },
      "execution_count": 13,
      "outputs": [
        {
          "output_type": "stream",
          "name": "stdout",
          "text": [
            "The price is 59.00 dollars\n"
          ]
        }
      ]
    },
    {
      "cell_type": "code",
      "source": [
        "c = 7/8\n",
        "c"
      ],
      "metadata": {
        "colab": {
          "base_uri": "https://localhost:8080/"
        },
        "id": "Hy0yO4vMon0F",
        "outputId": "6064d20d-c535-4ae6-ca8d-6bea9a914dbd"
      },
      "execution_count": 14,
      "outputs": [
        {
          "output_type": "execute_result",
          "data": {
            "text/plain": [
              "0.875"
            ]
          },
          "metadata": {},
          "execution_count": 14
        }
      ]
    },
    {
      "cell_type": "code",
      "source": [],
      "metadata": {
        "id": "vEeMRXJIo8sP"
      },
      "execution_count": null,
      "outputs": []
    },
    {
      "cell_type": "code",
      "source": [
        "print(f\"The price is {c:.2f}\")"
      ],
      "metadata": {
        "colab": {
          "base_uri": "https://localhost:8080/"
        },
        "id": "TkApMc4oo27Y",
        "outputId": "d07e9529-d4e1-4616-f0db-eae445d5b22a"
      },
      "execution_count": 15,
      "outputs": [
        {
          "output_type": "stream",
          "name": "stdout",
          "text": [
            "The price is 0.88\n"
          ]
        }
      ]
    },
    {
      "cell_type": "code",
      "source": [
        "print(\"Hello World!\")\n",
        "print(\"Hello World!\")\n",
        "print(\"Hello World!\")"
      ],
      "metadata": {
        "colab": {
          "base_uri": "https://localhost:8080/"
        },
        "id": "yg8rpxoVpALq",
        "outputId": "be29b431-b6fe-4c40-bd67-373f13c82246"
      },
      "execution_count": 16,
      "outputs": [
        {
          "output_type": "stream",
          "name": "stdout",
          "text": [
            "Hello World!\n",
            "Hello World!\n",
            "Hello World!\n"
          ]
        }
      ]
    },
    {
      "cell_type": "code",
      "source": [
        "# Instead of writing this 3 times we can use \"\\n\" which is a new line character for doing the same\n",
        "# thing in a single line of code\n",
        "\n",
        "print(\"Hello World!\\nHello World!\\nHello World!\")"
      ],
      "metadata": {
        "colab": {
          "base_uri": "https://localhost:8080/"
        },
        "id": "yDUroFjLpnea",
        "outputId": "7d7d5b30-2952-4664-bca5-ba343d06170b"
      },
      "execution_count": 17,
      "outputs": [
        {
          "output_type": "stream",
          "name": "stdout",
          "text": [
            "Hello World!\n",
            "Hello World!\n",
            "Hello World!\n"
          ]
        }
      ]
    }
  ]
}