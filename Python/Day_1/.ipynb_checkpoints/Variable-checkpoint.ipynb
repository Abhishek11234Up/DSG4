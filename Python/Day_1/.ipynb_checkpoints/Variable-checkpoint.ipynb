{
 "cells": [
  {
   "cell_type": "code",
   "execution_count": 1,
   "id": "e31265d7-c82a-4bd6-98d5-2603046e581f",
   "metadata": {},
   "outputs": [],
   "source": [
    "a = 5"
   ]
  },
  {
   "cell_type": "code",
   "execution_count": 2,
   "id": "250f5ee9-8788-4430-bc9f-1465060b769c",
   "metadata": {},
   "outputs": [
    {
     "name": "stdout",
     "output_type": "stream",
     "text": [
      "140719626503080\n"
     ]
    }
   ],
   "source": [
    "print(id(a))"
   ]
  },
  {
   "cell_type": "code",
   "execution_count": 3,
   "id": "c2b69ca6-4b38-44f3-a2c0-3e2084796c12",
   "metadata": {},
   "outputs": [
    {
     "data": {
      "text/plain": [
       "140719626503080"
      ]
     },
     "execution_count": 3,
     "metadata": {},
     "output_type": "execute_result"
    }
   ],
   "source": [
    "id(a)"
   ]
  },
  {
   "cell_type": "code",
   "execution_count": 4,
   "id": "23aa5f62-47bf-4201-8739-8802d9e3eb8c",
   "metadata": {},
   "outputs": [],
   "source": [
    "name = \"Abhishek\""
   ]
  },
  {
   "cell_type": "code",
   "execution_count": 5,
   "id": "c1dc9cee-87f5-44f5-adfb-1fd897a0e983",
   "metadata": {},
   "outputs": [
    {
     "data": {
      "text/plain": [
       "1951229995696"
      ]
     },
     "execution_count": 5,
     "metadata": {},
     "output_type": "execute_result"
    }
   ],
   "source": [
    "id(name)"
   ]
  },
  {
   "cell_type": "code",
   "execution_count": 6,
   "id": "e23c086c-6296-4c76-9138-0e584c7fc781",
   "metadata": {},
   "outputs": [],
   "source": [
    "b = 4\n",
    "B = \"Sally\""
   ]
  },
  {
   "cell_type": "code",
   "execution_count": 7,
   "id": "5122fe86-feab-4f06-986c-b3fde6dd9afb",
   "metadata": {},
   "outputs": [
    {
     "data": {
      "text/plain": [
       "140719626503048"
      ]
     },
     "execution_count": 7,
     "metadata": {},
     "output_type": "execute_result"
    }
   ],
   "source": [
    "id(b)"
   ]
  },
  {
   "cell_type": "code",
   "execution_count": 8,
   "id": "1fe3f732-e3f3-4d2e-9b53-0f562e83dc77",
   "metadata": {},
   "outputs": [
    {
     "data": {
      "text/plain": [
       "1951230898224"
      ]
     },
     "execution_count": 8,
     "metadata": {},
     "output_type": "execute_result"
    }
   ],
   "source": [
    "id(B)"
   ]
  },
  {
   "cell_type": "markdown",
   "id": "df5a7c45-8ad8-49c0-95c5-f51517421ead",
   "metadata": {},
   "source": [
    "## keywords --> They are reserved words to do some specific type of task."
   ]
  },
  {
   "cell_type": "code",
   "execution_count": 9,
   "id": "8524b970-c169-4fdb-bfc0-14eefd046f15",
   "metadata": {},
   "outputs": [],
   "source": [
    "import keyword"
   ]
  },
  {
   "cell_type": "code",
   "execution_count": 11,
   "id": "24a8648b-7782-4caf-b953-0c515cd94d3c",
   "metadata": {},
   "outputs": [
    {
     "name": "stdout",
     "output_type": "stream",
     "text": [
      "['False', 'None', 'True', 'and', 'as', 'assert', 'async', 'await', 'break', 'class', 'continue', 'def', 'del', 'elif', 'else', 'except', 'finally', 'for', 'from', 'global', 'if', 'import', 'in', 'is', 'lambda', 'nonlocal', 'not', 'or', 'pass', 'raise', 'return', 'try', 'while', 'with', 'yield']\n"
     ]
    }
   ],
   "source": [
    "print(keyword.kwlist)"
   ]
  },
  {
   "cell_type": "code",
   "execution_count": 13,
   "id": "6b834a27-4b22-434c-ad85-18ec568e24fb",
   "metadata": {},
   "outputs": [],
   "source": [
    "My_Nick_Name = \"Amit\""
   ]
  },
  {
   "cell_type": "code",
   "execution_count": 14,
   "id": "8392cb27-ed60-4a40-a5a9-c39b9206c8ae",
   "metadata": {},
   "outputs": [],
   "source": [
    "My_ful_1 = \"Abhishek\""
   ]
  },
  {
   "cell_type": "code",
   "execution_count": 23,
   "id": "5ffc7adb-aa54-4926-9616-4068e502198d",
   "metadata": {},
   "outputs": [],
   "source": [
    "History, Maths, Science = 35, 85, 89"
   ]
  },
  {
   "cell_type": "code",
   "execution_count": 24,
   "id": "b8803878-f91d-4608-a572-39f0fbf5c358",
   "metadata": {},
   "outputs": [
    {
     "name": "stdout",
     "output_type": "stream",
     "text": [
      "35\n"
     ]
    }
   ],
   "source": [
    "# you need to do things like this\n",
    "print(History)"
   ]
  },
  {
   "cell_type": "code",
   "execution_count": 25,
   "id": "b962c5dd-80b5-4473-99df-4e2ed3706d05",
   "metadata": {},
   "outputs": [
    {
     "data": {
      "text/plain": [
       "85"
      ]
     },
     "execution_count": 25,
     "metadata": {},
     "output_type": "execute_result"
    }
   ],
   "source": [
    "# don't try this\n",
    "Maths"
   ]
  },
  {
   "cell_type": "code",
   "execution_count": 26,
   "id": "68d41ead-71ed-4733-8a9b-5273d0d04a74",
   "metadata": {},
   "outputs": [
    {
     "data": {
      "text/plain": [
       "89"
      ]
     },
     "execution_count": 26,
     "metadata": {},
     "output_type": "execute_result"
    }
   ],
   "source": [
    "Science"
   ]
  },
  {
   "cell_type": "code",
   "execution_count": null,
   "id": "92d138c7-0871-48ec-876c-fb8c17cce3b4",
   "metadata": {},
   "outputs": [],
   "source": []
  }
 ],
 "metadata": {
  "kernelspec": {
   "display_name": "Python 3 (ipykernel)",
   "language": "python",
   "name": "python3"
  },
  "language_info": {
   "codemirror_mode": {
    "name": "ipython",
    "version": 3
   },
   "file_extension": ".py",
   "mimetype": "text/x-python",
   "name": "python",
   "nbconvert_exporter": "python",
   "pygments_lexer": "ipython3",
   "version": "3.11.7"
  }
 },
 "nbformat": 4,
 "nbformat_minor": 5
}
