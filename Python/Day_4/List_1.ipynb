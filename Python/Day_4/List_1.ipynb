{
 "cells": [
  {
   "cell_type": "code",
   "execution_count": 1,
   "id": "07c578fb-c0b8-4322-ac50-2b1aee08173d",
   "metadata": {},
   "outputs": [],
   "source": [
    "list_1 = [1, 2.6, 3+5j, True, False, \"Tanuj\", [1,2,3], (2,6,9)]"
   ]
  },
  {
   "cell_type": "code",
   "execution_count": 3,
   "id": "8c63ed48-317b-43ed-9fef-677ff50220f5",
   "metadata": {},
   "outputs": [
    {
     "name": "stdout",
     "output_type": "stream",
     "text": [
      "<class 'list'>\n"
     ]
    }
   ],
   "source": [
    "print(type(list_1))"
   ]
  },
  {
   "cell_type": "code",
   "execution_count": 4,
   "id": "89eb0de4-538b-40c3-8384-8d0e9051b94d",
   "metadata": {},
   "outputs": [
    {
     "data": {
      "text/plain": [
       "[1, 2.6, (3+5j), True, False, 'Tanuj', [1, 2, 3], (2, 6, 9)]"
      ]
     },
     "execution_count": 4,
     "metadata": {},
     "output_type": "execute_result"
    }
   ],
   "source": [
    "list_1"
   ]
  },
  {
   "cell_type": "code",
   "execution_count": 5,
   "id": "58ef33d7-d28d-4c56-bbf6-4b2413fa31be",
   "metadata": {},
   "outputs": [
    {
     "data": {
      "text/plain": [
       "8"
      ]
     },
     "execution_count": 5,
     "metadata": {},
     "output_type": "execute_result"
    }
   ],
   "source": [
    "len(list_1)"
   ]
  },
  {
   "cell_type": "code",
   "execution_count": 7,
   "id": "c88fa09a-0179-4d33-8153-bb735e4da2d0",
   "metadata": {},
   "outputs": [
    {
     "name": "stdout",
     "output_type": "stream",
     "text": [
      "(3+5j)\n"
     ]
    }
   ],
   "source": [
    "print(list_1[2])"
   ]
  },
  {
   "cell_type": "code",
   "execution_count": 9,
   "id": "fe72a09e-e1cf-4d20-8c5d-defcf4436708",
   "metadata": {},
   "outputs": [
    {
     "name": "stdout",
     "output_type": "stream",
     "text": [
      "Tanuj\n"
     ]
    }
   ],
   "source": [
    "print(list_1[-3])"
   ]
  },
  {
   "cell_type": "code",
   "execution_count": 10,
   "id": "cdc8583e-f45d-4fc1-83ad-88a9c7afd897",
   "metadata": {},
   "outputs": [
    {
     "name": "stdout",
     "output_type": "stream",
     "text": [
      "[1, 2, 3]\n"
     ]
    }
   ],
   "source": [
    "print(list_1[-2])"
   ]
  },
  {
   "cell_type": "code",
   "execution_count": 11,
   "id": "56a824dd-feb7-4e68-b208-bf21f8d8e5ae",
   "metadata": {},
   "outputs": [
    {
     "data": {
      "text/plain": [
       "(2, 6, 9)"
      ]
     },
     "execution_count": 11,
     "metadata": {},
     "output_type": "execute_result"
    }
   ],
   "source": [
    "list_1[7]"
   ]
  },
  {
   "cell_type": "markdown",
   "id": "08032f91-716d-4c1b-a0f9-18467e6d72be",
   "metadata": {},
   "source": [
    "### list()--> constructor"
   ]
  },
  {
   "cell_type": "code",
   "execution_count": 19,
   "id": "bff1028b-e99d-4c44-8472-b88264861516",
   "metadata": {},
   "outputs": [],
   "source": [
    "ls =list((1, 2.6, 3+5j, True, False, \"Tanuj\", [1,2,3], (2,6,9), 1, 2.6))"
   ]
  },
  {
   "cell_type": "code",
   "execution_count": 20,
   "id": "1b32471c-f781-4107-9c3f-139d3531f03f",
   "metadata": {},
   "outputs": [
    {
     "data": {
      "text/plain": [
       "[1, 2.6, (3+5j), True, False, 'Tanuj', [1, 2, 3], (2, 6, 9), 1, 2.6]"
      ]
     },
     "execution_count": 20,
     "metadata": {},
     "output_type": "execute_result"
    }
   ],
   "source": [
    "ls"
   ]
  },
  {
   "cell_type": "markdown",
   "id": "8740f3d5-0f82-4b3b-af3d-bb5aefc95e48",
   "metadata": {},
   "source": [
    "# To select a range of item we use slice operator.\n",
    "## [start : end] --> start will be included in ur output and end will be excluded.\n",
    "\n",
    "## [Start : End : Step] --> step --- jump"
   ]
  },
  {
   "cell_type": "code",
   "execution_count": 23,
   "id": "8b5dee16-7adc-439e-a7a9-8a0410a611dd",
   "metadata": {},
   "outputs": [
    {
     "data": {
      "text/plain": [
       "10"
      ]
     },
     "execution_count": 23,
     "metadata": {},
     "output_type": "execute_result"
    }
   ],
   "source": [
    "len(ls)"
   ]
  },
  {
   "cell_type": "code",
   "execution_count": 22,
   "id": "08d044ad-e99e-4159-b41d-df9f8a29cba4",
   "metadata": {},
   "outputs": [
    {
     "data": {
      "text/plain": [
       "[1, 2.6, (3+5j)]"
      ]
     },
     "execution_count": 22,
     "metadata": {},
     "output_type": "execute_result"
    }
   ],
   "source": [
    "ls[0:3]"
   ]
  },
  {
   "cell_type": "code",
   "execution_count": 26,
   "id": "5f50ecc7-6f76-461f-b6fc-99df05a15c53",
   "metadata": {},
   "outputs": [
    {
     "data": {
      "text/plain": [
       "[1, 2.6, (3+5j), True]"
      ]
     },
     "execution_count": 26,
     "metadata": {},
     "output_type": "execute_result"
    }
   ],
   "source": [
    "ls[-10:-6]"
   ]
  },
  {
   "cell_type": "code",
   "execution_count": 27,
   "id": "c68c85fc-902e-48f7-82df-ac28a1e1c88b",
   "metadata": {},
   "outputs": [
    {
     "data": {
      "text/plain": [
       "[1, 2.6, (3+5j)]"
      ]
     },
     "execution_count": 27,
     "metadata": {},
     "output_type": "execute_result"
    }
   ],
   "source": [
    "ls[:3]"
   ]
  },
  {
   "cell_type": "code",
   "execution_count": 28,
   "id": "c6bed423-9a84-49e2-9873-16931fa5ee11",
   "metadata": {},
   "outputs": [
    {
     "data": {
      "text/plain": [
       "[1, 2.6, (3+5j), True]"
      ]
     },
     "execution_count": 28,
     "metadata": {},
     "output_type": "execute_result"
    }
   ],
   "source": [
    "ls[:-6]"
   ]
  },
  {
   "cell_type": "code",
   "execution_count": 29,
   "id": "6126267c-c184-4b43-bd24-d4f6a543fb1c",
   "metadata": {},
   "outputs": [
    {
     "name": "stdout",
     "output_type": "stream",
     "text": [
      "Yes, 'apple' is in the fruits list\n"
     ]
    }
   ],
   "source": [
    "thislist = [\"apple\", \"banana\", \"cherry\"]\n",
    "if \"apple\" in thislist:\n",
    "  print(\"Yes, 'apple' is in the fruits list\")"
   ]
  },
  {
   "cell_type": "code",
   "execution_count": 30,
   "id": "ecdfa064-a324-4911-846d-02cd5a2dabe5",
   "metadata": {},
   "outputs": [
    {
     "name": "stdin",
     "output_type": "stream",
     "text": [
      "What is your name?  abhishek\n"
     ]
    },
    {
     "data": {
      "text/plain": [
       "'abhishek'"
      ]
     },
     "execution_count": 30,
     "metadata": {},
     "output_type": "execute_result"
    }
   ],
   "source": [
    "input(\"What is your name? \")"
   ]
  },
  {
   "cell_type": "code",
   "execution_count": 31,
   "id": "91de470a-6cf0-455e-992a-af0b34df7361",
   "metadata": {},
   "outputs": [
    {
     "name": "stdout",
     "output_type": "stream",
     "text": [
      "['apple', 'blackcurrant', 'cherry']\n"
     ]
    }
   ],
   "source": [
    "thislist = [\"apple\", \"banana\", \"cherry\"]\n",
    "thislist[1] = \"blackcurrant\"\n",
    "print(thislist)"
   ]
  },
  {
   "cell_type": "code",
   "execution_count": 32,
   "id": "a2ac8858-5b12-4848-bdd0-60078d2b72d2",
   "metadata": {},
   "outputs": [
    {
     "name": "stdout",
     "output_type": "stream",
     "text": [
      "['apple', 'banana', 'blackcurrant']\n"
     ]
    }
   ],
   "source": [
    "thislist = [\"apple\", \"banana\", \"cherry\"]\n",
    "thislist[2] = \"blackcurrant\"\n",
    "print(thislist)"
   ]
  },
  {
   "cell_type": "code",
   "execution_count": 34,
   "id": "aa795aed-2186-4d16-acda-f879e8e8d0f0",
   "metadata": {},
   "outputs": [
    {
     "name": "stdout",
     "output_type": "stream",
     "text": [
      "['apple', 'blackcurrant', 'watermelon', 'orange', 'kiwi', 'mango']\n"
     ]
    }
   ],
   "source": [
    "thislist = [\"apple\", \"banana\", \"cherry\", \"orange\", \"kiwi\", \"mango\"]\n",
    "\n",
    "thislist[1:3] = [\"blackcurrant\", \"watermelon\"]\n",
    "print(thislist)"
   ]
  },
  {
   "cell_type": "code",
   "execution_count": 35,
   "id": "20d2a5a0-1930-4d5e-9b30-d7fa8df6f07f",
   "metadata": {},
   "outputs": [
    {
     "name": "stdout",
     "output_type": "stream",
     "text": [
      "['apple', 'blackcurrant', 'watermelon', 'cherry']\n"
     ]
    }
   ],
   "source": [
    "thislist = [\"apple\", \"banana\", \"cherry\"]\n",
    "\n",
    "thislist[1:2] = [\"blackcurrant\", \"watermelon\"]\n",
    "\n",
    "print(thislist)"
   ]
  },
  {
   "cell_type": "code",
   "execution_count": 37,
   "id": "44caad32-5082-4f7c-9e96-9c460f79d7f6",
   "metadata": {},
   "outputs": [
    {
     "name": "stdout",
     "output_type": "stream",
     "text": [
      "['apple', 'watermelon']\n"
     ]
    }
   ],
   "source": [
    "thislist = [\"apple\", \"banana\", \"cherry\"]\n",
    "\n",
    "thislist[1:3] = [\"watermelon\"]\n",
    "print(thislist)"
   ]
  },
  {
   "cell_type": "code",
   "execution_count": 38,
   "id": "e31b32a3-4af4-417e-9d3e-cfdbacf42e88",
   "metadata": {},
   "outputs": [
    {
     "name": "stdout",
     "output_type": "stream",
     "text": [
      "['apple', 'banana', 'watermelon', 'cherry']\n"
     ]
    }
   ],
   "source": [
    "thislist = [\"apple\", \"banana\", \"cherry\"]\n",
    "thislist.insert(2, \"watermelon\")\n",
    "print(thislist)"
   ]
  },
  {
   "cell_type": "code",
   "execution_count": 39,
   "id": "59ee7d72-094e-4e26-a552-951488bbd6c6",
   "metadata": {},
   "outputs": [
    {
     "name": "stdout",
     "output_type": "stream",
     "text": [
      "['apple', 'banana', 'cherry', 'orange']\n"
     ]
    }
   ],
   "source": [
    "thislist = [\"apple\", \"banana\", \"cherry\"]\n",
    "thislist.append(\"orange\")\n",
    "print(thislist)"
   ]
  },
  {
   "cell_type": "code",
   "execution_count": 40,
   "id": "c5cba117-4121-47e6-8bda-5968dfce68af",
   "metadata": {},
   "outputs": [
    {
     "name": "stdout",
     "output_type": "stream",
     "text": [
      "['apple', 'banana', 'cherry', 'mango', 'pineapple', 'papaya']\n"
     ]
    }
   ],
   "source": [
    "thislist = [\"apple\", \"banana\", \"cherry\"]\n",
    "tropical = [\"mango\", \"pineapple\", \"papaya\"]\n",
    "thislist.extend(tropical)\n",
    "print(thislist)\n"
   ]
  },
  {
   "cell_type": "code",
   "execution_count": 41,
   "id": "551eb7a6-f56a-420a-8a0c-ab1014f7e113",
   "metadata": {},
   "outputs": [
    {
     "name": "stdout",
     "output_type": "stream",
     "text": [
      "['mango', 'pineapple', 'papaya', 'apple', 'banana', 'cherry']\n"
     ]
    }
   ],
   "source": [
    "thislist = [\"apple\", \"banana\", \"cherry\"]\n",
    "tropical = [\"mango\", \"pineapple\", \"papaya\"]\n",
    "tropical.extend(thislist)\n",
    "print(tropical)\n"
   ]
  },
  {
   "cell_type": "code",
   "execution_count": null,
   "id": "57377d39-edfa-4af4-b936-594a2f62687b",
   "metadata": {},
   "outputs": [],
   "source": []
  }
 ],
 "metadata": {
  "kernelspec": {
   "display_name": "Python 3 (ipykernel)",
   "language": "python",
   "name": "python3"
  },
  "language_info": {
   "codemirror_mode": {
    "name": "ipython",
    "version": 3
   },
   "file_extension": ".py",
   "mimetype": "text/x-python",
   "name": "python",
   "nbconvert_exporter": "python",
   "pygments_lexer": "ipython3",
   "version": "3.11.7"
  }
 },
 "nbformat": 4,
 "nbformat_minor": 5
}
