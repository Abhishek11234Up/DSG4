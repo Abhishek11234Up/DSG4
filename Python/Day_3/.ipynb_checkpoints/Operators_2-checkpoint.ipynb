{
 "cells": [
  {
   "cell_type": "code",
   "execution_count": 1,
   "id": "bb0d5dce-b76d-423c-a067-d8d9d845b804",
   "metadata": {},
   "outputs": [],
   "source": [
    "a = 15"
   ]
  },
  {
   "cell_type": "code",
   "execution_count": 2,
   "id": "6d2663a8-626a-4a30-91cf-49443040f37b",
   "metadata": {},
   "outputs": [
    {
     "data": {
      "text/plain": [
       "False"
      ]
     },
     "execution_count": 2,
     "metadata": {},
     "output_type": "execute_result"
    }
   ],
   "source": [
    "a < 10 and a < 13"
   ]
  },
  {
   "cell_type": "code",
   "execution_count": 3,
   "id": "02678a25-08ea-4016-a81a-16b34c6d75c6",
   "metadata": {},
   "outputs": [
    {
     "data": {
      "text/plain": [
       "True"
      ]
     },
     "execution_count": 3,
     "metadata": {},
     "output_type": "execute_result"
    }
   ],
   "source": [
    "a > 10 and a == 15"
   ]
  },
  {
   "cell_type": "code",
   "execution_count": 4,
   "id": "9f63d62c-eb0d-40e8-a7e5-c5066ff74c08",
   "metadata": {},
   "outputs": [
    {
     "data": {
      "text/plain": [
       "False"
      ]
     },
     "execution_count": 4,
     "metadata": {},
     "output_type": "execute_result"
    }
   ],
   "source": [
    "a < 5 and a == 15"
   ]
  },
  {
   "cell_type": "code",
   "execution_count": 5,
   "id": "1524b7e0-dd4e-4661-b85b-2e13af0b755f",
   "metadata": {},
   "outputs": [
    {
     "data": {
      "text/plain": [
       "False"
      ]
     },
     "execution_count": 5,
     "metadata": {},
     "output_type": "execute_result"
    }
   ],
   "source": [
    "a > 10 and a < 12"
   ]
  },
  {
   "cell_type": "code",
   "execution_count": 6,
   "id": "29d93a08-8efd-4173-aad0-8330e920206e",
   "metadata": {},
   "outputs": [
    {
     "data": {
      "text/plain": [
       "False"
      ]
     },
     "execution_count": 6,
     "metadata": {},
     "output_type": "execute_result"
    }
   ],
   "source": [
    "a < 10 or a < 13"
   ]
  },
  {
   "cell_type": "code",
   "execution_count": 7,
   "id": "e1241c7d-55b9-41d7-8cde-2e43d1742fa4",
   "metadata": {},
   "outputs": [
    {
     "data": {
      "text/plain": [
       "True"
      ]
     },
     "execution_count": 7,
     "metadata": {},
     "output_type": "execute_result"
    }
   ],
   "source": [
    "a > 10 or a == 15"
   ]
  },
  {
   "cell_type": "code",
   "execution_count": 8,
   "id": "638cad86-01b8-466f-a6ef-c104d97594d5",
   "metadata": {},
   "outputs": [
    {
     "data": {
      "text/plain": [
       "True"
      ]
     },
     "execution_count": 8,
     "metadata": {},
     "output_type": "execute_result"
    }
   ],
   "source": [
    "a < 5 or a == 15"
   ]
  },
  {
   "cell_type": "code",
   "execution_count": 9,
   "id": "213bfba8-5b5f-41ad-ba85-146788891c65",
   "metadata": {},
   "outputs": [],
   "source": [
    "a = 7\n",
    "b = 9"
   ]
  },
  {
   "cell_type": "code",
   "execution_count": 10,
   "id": "ac98442c-c436-4c28-9861-60d19b62e2cd",
   "metadata": {},
   "outputs": [
    {
     "data": {
      "text/plain": [
       "1"
      ]
     },
     "execution_count": 10,
     "metadata": {},
     "output_type": "execute_result"
    }
   ],
   "source": [
    "a & b"
   ]
  },
  {
   "cell_type": "code",
   "execution_count": 11,
   "id": "8b0ef5d8-a898-4f69-8e43-d9486f5e6494",
   "metadata": {},
   "outputs": [
    {
     "data": {
      "text/plain": [
       "15"
      ]
     },
     "execution_count": 11,
     "metadata": {},
     "output_type": "execute_result"
    }
   ],
   "source": [
    "a | b"
   ]
  },
  {
   "cell_type": "code",
   "execution_count": 12,
   "id": "28bf3cdd-0107-45fc-9db9-e183771595ff",
   "metadata": {},
   "outputs": [
    {
     "data": {
      "text/plain": [
       "14"
      ]
     },
     "execution_count": 12,
     "metadata": {},
     "output_type": "execute_result"
    }
   ],
   "source": [
    "a ^ b"
   ]
  },
  {
   "cell_type": "code",
   "execution_count": 13,
   "id": "2982a354-a335-4273-91e0-a05fe3838cab",
   "metadata": {},
   "outputs": [
    {
     "data": {
      "text/plain": [
       "-8"
      ]
     },
     "execution_count": 13,
     "metadata": {},
     "output_type": "execute_result"
    }
   ],
   "source": [
    "~a"
   ]
  },
  {
   "cell_type": "code",
   "execution_count": 15,
   "id": "855788ec-edc8-4bbb-887a-35e680b2c924",
   "metadata": {},
   "outputs": [
    {
     "data": {
      "text/plain": [
       "3.0"
      ]
     },
     "execution_count": 15,
     "metadata": {},
     "output_type": "execute_result"
    }
   ],
   "source": [
    "3+3*3/3-3"
   ]
  },
  {
   "cell_type": "code",
   "execution_count": 16,
   "id": "4ae9a461-37e6-43e3-bf70-0d7212810e3f",
   "metadata": {},
   "outputs": [
    {
     "data": {
      "text/plain": [
       "7.0"
      ]
     },
     "execution_count": 16,
     "metadata": {},
     "output_type": "execute_result"
    }
   ],
   "source": [
    "3 * 3 + 3 / 3 - 3"
   ]
  },
  {
   "cell_type": "code",
   "execution_count": null,
   "id": "a65c688f-e44d-4418-85b6-852692961788",
   "metadata": {},
   "outputs": [],
   "source": []
  }
 ],
 "metadata": {
  "kernelspec": {
   "display_name": "Python 3 (ipykernel)",
   "language": "python",
   "name": "python3"
  },
  "language_info": {
   "codemirror_mode": {
    "name": "ipython",
    "version": 3
   },
   "file_extension": ".py",
   "mimetype": "text/x-python",
   "name": "python",
   "nbconvert_exporter": "python",
   "pygments_lexer": "ipython3",
   "version": "3.11.7"
  }
 },
 "nbformat": 4,
 "nbformat_minor": 5
}
